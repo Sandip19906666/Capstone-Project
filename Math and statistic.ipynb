{
  "nbformat": 4,
  "nbformat_minor": 0,
  "metadata": {
    "colab": {
      "provenance": [],
      "mount_file_id": "1DzzCdVCVzhwCD1kyTh11SbsmXXNwRo6T",
      "authorship_tag": "ABX9TyMDdJpTTCXslsbSmo+FWwI4",
      "include_colab_link": true
    },
    "kernelspec": {
      "name": "python3",
      "display_name": "Python 3"
    },
    "language_info": {
      "name": "python"
    }
  },
  "cells": [
    {
      "cell_type": "markdown",
      "metadata": {
        "id": "view-in-github",
        "colab_type": "text"
      },
      "source": [
        "<a href=\"https://colab.research.google.com/github/Sandip19906666/Capstone-Project/blob/main/Math%20and%20statistic.ipynb\" target=\"_parent\"><img src=\"https://colab.research.google.com/assets/colab-badge.svg\" alt=\"Open In Colab\"/></a>"
      ]
    },
    {
      "cell_type": "code",
      "execution_count": 1,
      "metadata": {
        "id": "LLEkmeolBiM7"
      },
      "outputs": [],
      "source": [
        "import pandas as pd"
      ]
    },
    {
      "cell_type": "code",
      "source": [
        "import statsmodels.api as sm"
      ],
      "metadata": {
        "id": "urX0ZAJuCHRa"
      },
      "execution_count": 24,
      "outputs": []
    },
    {
      "cell_type": "code",
      "source": [
        "data= pd.read_excel(\"/content/drive/MyDrive/Dataset_1.xlsx\")"
      ],
      "metadata": {
        "id": "r5EtdJ7JCLoR"
      },
      "execution_count": 4,
      "outputs": []
    },
    {
      "cell_type": "code",
      "source": [
        "missing_values=data.isnull().sum()\n",
        "print(\"Missing Values:\\n\", missing_values)"
      ],
      "metadata": {
        "colab": {
          "base_uri": "https://localhost:8080/"
        },
        "id": "ei23mowMCxsr",
        "outputId": "72562bb4-2440-4658-bce3-dab1c59282ab"
      },
      "execution_count": 7,
      "outputs": [
        {
          "output_type": "stream",
          "name": "stdout",
          "text": [
            "Missing Values:\n",
            " DESCRIPTION          0\n",
            "EXTRACT_DATE         0\n",
            "DATA_SOURCE          0\n",
            "PROPERTY_TYPE        0\n",
            "LOCATION             0\n",
            "REGION               0\n",
            "PRICE                0\n",
            "FLOOR_SIZE           0\n",
            "NO_OF_BEDROOMS       0\n",
            "NO_OF_BATHROOMS      0\n",
            "PRICE_SQFT           0\n",
            "Unnamed: 11        357\n",
            "dtype: int64\n"
          ]
        }
      ]
    },
    {
      "cell_type": "code",
      "source": [
        "data.dropna(inplace=True)"
      ],
      "metadata": {
        "id": "h00QZA0RDIOq"
      },
      "execution_count": 8,
      "outputs": []
    },
    {
      "cell_type": "code",
      "source": [
        "X= data[['PRICE_SQFT', 'NO_OF_BATHROOMS', 'FLOOR_SIZE']]\n",
        "Y=data['PRICE']"
      ],
      "metadata": {
        "id": "uNNnPZluDSGA"
      },
      "execution_count": 10,
      "outputs": []
    },
    {
      "cell_type": "code",
      "source": [
        "X=sm.add_constant(X)"
      ],
      "metadata": {
        "id": "yo4Sn2WzDlWP"
      },
      "execution_count": 11,
      "outputs": []
    },
    {
      "cell_type": "code",
      "source": [
        "model= sm.OLS(Y,X).fit()"
      ],
      "metadata": {
        "id": "NYXqI1ryEcLv"
      },
      "execution_count": 12,
      "outputs": []
    },
    {
      "source": [
        "model.resid.shape"
      ],
      "cell_type": "code",
      "metadata": {
        "colab": {
          "base_uri": "https://localhost:8080/"
        },
        "id": "MPqDGyfCFGmz",
        "outputId": "b105ab9d-5956-4252-9faa-4d9435c0a606"
      },
      "execution_count": 17,
      "outputs": [
        {
          "output_type": "execute_result",
          "data": {
            "text/plain": [
              "(1,)"
            ]
          },
          "metadata": {},
          "execution_count": 17
        }
      ]
    },
    {
      "cell_type": "code",
      "source": [
        "model"
      ],
      "metadata": {
        "colab": {
          "base_uri": "https://localhost:8080/"
        },
        "id": "Dn6gr0USEpHP",
        "outputId": "7769f5fd-b931-41da-affc-4f6ad13181a0"
      },
      "execution_count": 18,
      "outputs": [
        {
          "output_type": "execute_result",
          "data": {
            "text/plain": [
              "<statsmodels.regression.linear_model.RegressionResultsWrapper at 0x7e2787ceec80>"
            ]
          },
          "metadata": {},
          "execution_count": 18
        }
      ]
    },
    {
      "cell_type": "code",
      "source": [
        "print(model)"
      ],
      "metadata": {
        "colab": {
          "base_uri": "https://localhost:8080/"
        },
        "id": "wNifyGnoGz1y",
        "outputId": "8d1aa376-4674-4699-9d40-c7be672129a0"
      },
      "execution_count": 26,
      "outputs": [
        {
          "output_type": "stream",
          "name": "stdout",
          "text": [
            "<statsmodels.regression.linear_model.RegressionResultsWrapper object at 0x7e2787ceec80>\n"
          ]
        }
      ]
    },
    {
      "cell_type": "code",
      "source": [
        "p_values= model.pvalues"
      ],
      "metadata": {
        "id": "9uK43BJ4HESH"
      },
      "execution_count": 28,
      "outputs": []
    },
    {
      "cell_type": "code",
      "source": [
        "print(\"\\nP-values for Independent Variables:\\n\",p_values)"
      ],
      "metadata": {
        "colab": {
          "base_uri": "https://localhost:8080/"
        },
        "id": "G1nOHTy6HdRE",
        "outputId": "0cc65810-67da-4e31-f892-c475f781c6b1"
      },
      "execution_count": 29,
      "outputs": [
        {
          "output_type": "stream",
          "name": "stdout",
          "text": [
            "\n",
            "P-values for Independent Variables:\n",
            " PRICE_SQFT        NaN\n",
            "NO_OF_BATHROOMS   NaN\n",
            "FLOOR_SIZE        NaN\n",
            "dtype: float64\n"
          ]
        }
      ]
    },
    {
      "cell_type": "code",
      "source": [
        "significance_level= 0.05"
      ],
      "metadata": {
        "id": "sVjlkozDH5Gx"
      },
      "execution_count": 30,
      "outputs": []
    },
    {
      "cell_type": "code",
      "source": [
        "if any(p_values < significance_level):\n",
        "  print(\"\\nReject the null hypothesis. There is a significant effect of the independent variables on the price.\")\n",
        "else:\n",
        "    print(\"\\nCannot reject the null hypothesis. There is no significant effect of the independent variables on the price.\")"
      ],
      "metadata": {
        "colab": {
          "base_uri": "https://localhost:8080/"
        },
        "id": "i3hKuv2bIBuD",
        "outputId": "044c0a4c-f0b3-43bf-dad0-10867ec2b5f5"
      },
      "execution_count": 31,
      "outputs": [
        {
          "output_type": "stream",
          "name": "stdout",
          "text": [
            "\n",
            "Cannot reject the null hypothesis. There is no significant effect of the independent variables on the price.\n"
          ]
        }
      ]
    },
    {
      "cell_type": "code",
      "source": [],
      "metadata": {
        "id": "04WSGfONIhkj"
      },
      "execution_count": null,
      "outputs": []
    }
  ]
}