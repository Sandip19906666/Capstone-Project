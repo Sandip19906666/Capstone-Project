{
  "cells": [
    {
      "cell_type": "markdown",
      "metadata": {
        "id": "view-in-github",
        "colab_type": "text"
      },
      "source": [
        "<a href=\"https://colab.research.google.com/github/Sandip19906666/Capstone-Project/blob/main/Welcome_To_Colaboratory.ipynb\" target=\"_parent\"><img src=\"https://colab.research.google.com/assets/colab-badge.svg\" alt=\"Open In Colab\"/></a>"
      ]
    },
    {
      "cell_type": "code",
      "source": [
        "from google.colab import drive\n",
        "drive.mount('/content/drive')"
      ],
      "metadata": {
        "id": "G5SUN-puR4Tv",
        "outputId": "25f01c4d-efae-4e83-c56f-65941296110d",
        "colab": {
          "base_uri": "https://localhost:8080/"
        }
      },
      "execution_count": 1,
      "outputs": [
        {
          "output_type": "stream",
          "name": "stdout",
          "text": [
            "Mounted at /content/drive\n"
          ]
        }
      ]
    },
    {
      "cell_type": "code",
      "source": [
        "import pandas as pd"
      ],
      "metadata": {
        "id": "8U6P5E4aR6wc"
      },
      "execution_count": 32,
      "outputs": []
    },
    {
      "cell_type": "code",
      "source": [
        "#Data collections\n",
        "def gather_patient_data():\n",
        "  patient_data=pd.read_xlsx(\"/content/drive/MyDrive/dataset.xlsx\")\n",
        "  patient_data"
      ],
      "metadata": {
        "id": "nyqGGm5lSaby"
      },
      "execution_count": 6,
      "outputs": []
    },
    {
      "cell_type": "code",
      "source": [
        "gather_patient_data"
      ],
      "metadata": {
        "id": "S-7LXSBNS5j0",
        "outputId": "34799c66-8b11-41cb-dac5-ebe0f1ad8700",
        "colab": {
          "base_uri": "https://localhost:8080/",
          "height": 103
        }
      },
      "execution_count": 8,
      "outputs": [
        {
          "output_type": "execute_result",
          "data": {
            "text/plain": [
              "<function __main__.gather_patient_data()>"
            ],
            "text/html": [
              "<div style=\"max-width:800px; border: 1px solid var(--colab-border-color);\"><style>\n",
              "      pre.function-repr-contents {\n",
              "        overflow-x: auto;\n",
              "        padding: 8px 12px;\n",
              "        max-height: 500px;\n",
              "      }\n",
              "\n",
              "      pre.function-repr-contents.function-repr-contents-collapsed {\n",
              "        cursor: pointer;\n",
              "        max-height: 100px;\n",
              "      }\n",
              "    </style>\n",
              "    <pre style=\"white-space: initial; background:\n",
              "         var(--colab-secondary-surface-color); padding: 8px 12px;\n",
              "         border-bottom: 1px solid var(--colab-border-color);\"><b>gather_patient_data</b><br/>def gather_patient_data()</pre><pre class=\"function-repr-contents function-repr-contents-collapsed\" style=\"\"><a class=\"filepath\" style=\"display:none\" href=\"#\">/content/&lt;ipython-input-6-99f95eab6e0b&gt;</a>&lt;no docstring&gt;</pre></div>"
            ]
          },
          "metadata": {},
          "execution_count": 8
        }
      ]
    },
    {
      "cell_type": "code",
      "source": [
        "#Data Preprocessing\n",
        "from sklearn.impute import SimpleImputer\n",
        "from sklearn.preprocessing import StandardScaler"
      ],
      "metadata": {
        "id": "HuA08zbITKFE"
      },
      "execution_count": 9,
      "outputs": []
    },
    {
      "cell_type": "code",
      "source": [
        "def preprocess_data(patient_data):\n",
        "  imputer=SimpleImputer(strategy='mean')\n",
        "  patient_data_filled= pd.DataFrame(imputer.fit_transform(patient_data), columns=patient_data.columns)\n",
        "  scaler=StandardScaler()\n",
        "  scaled_data= scaler.fit.transform(patient_data_filled)\n",
        "  scaled_data\n",
        ""
      ],
      "metadata": {
        "id": "Woi_EjMPTWD-"
      },
      "execution_count": 11,
      "outputs": []
    },
    {
      "cell_type": "code",
      "source": [
        "#feature engineering"
      ],
      "metadata": {
        "id": "guo22U8RUNiT"
      },
      "execution_count": 12,
      "outputs": []
    },
    {
      "cell_type": "code",
      "source": [
        "def extract_features(patient_data):\n",
        "  patient_data['Age']= 2024 - patient_data['Birth_year']\n",
        "  patient_data"
      ],
      "metadata": {
        "id": "gCm3Mok7UdWb"
      },
      "execution_count": 13,
      "outputs": []
    },
    {
      "cell_type": "code",
      "source": [
        "#model development"
      ],
      "metadata": {
        "id": "HVDsQ1VqUxxJ"
      },
      "execution_count": 14,
      "outputs": []
    },
    {
      "cell_type": "code",
      "source": [
        "from sklearn.model_selection import train_test_split\n",
        "from sklearn.ensemble import RandomForestClassifier"
      ],
      "metadata": {
        "id": "xVtgNEAMU1bK"
      },
      "execution_count": 15,
      "outputs": []
    },
    {
      "cell_type": "code",
      "source": [
        "def train_model(feature, target):\n",
        "  X_train, X_test, y_train, y_test = train_test_split(feature, target, test_size=0.2, random_state=42)\n",
        "  model = RandomForestClassifier()\n",
        "  model.fit(X_train, y_train)\n",
        "  model"
      ],
      "metadata": {
        "id": "7C-mibSGU33k"
      },
      "execution_count": 17,
      "outputs": []
    },
    {
      "cell_type": "code",
      "source": [
        "#Treatment Recommendations"
      ],
      "metadata": {
        "id": "EillS9SIVnRK"
      },
      "execution_count": 18,
      "outputs": []
    },
    {
      "cell_type": "code",
      "source": [
        "def generate_recommendations(model,patient_data):\n",
        "  predictions= model.predict(patient_data)\n",
        "  predictions"
      ],
      "metadata": {
        "id": "IYw11Y1AV_P3"
      },
      "execution_count": 19,
      "outputs": []
    },
    {
      "cell_type": "code",
      "source": [
        "#model Interpretability"
      ],
      "metadata": {
        "id": "wHHGAaI8WVKl"
      },
      "execution_count": 20,
      "outputs": []
    },
    {
      "cell_type": "code",
      "source": [
        "def interpret_predictions(model,patient_data):\n",
        "  feature_importance = model.feature_importance\n",
        "  feature_importance"
      ],
      "metadata": {
        "id": "pNgwQ49hWac2"
      },
      "execution_count": 21,
      "outputs": []
    },
    {
      "cell_type": "code",
      "source": [
        "#user interface"
      ],
      "metadata": {
        "id": "Gn8BuyyNWp2M"
      },
      "execution_count": 22,
      "outputs": []
    },
    {
      "cell_type": "code",
      "source": [
        "import tkinter as tk"
      ],
      "metadata": {
        "id": "mDgdqEspWtkd"
      },
      "execution_count": 23,
      "outputs": []
    },
    {
      "cell_type": "code",
      "source": [
        "def show_recommendations():\n",
        "  patient_data = fetch_patient_data_from_ui()\n",
        "  processed_data= preprocess_data(patient_data)\n",
        "  recommendations= generate_recommendations(trained_model, processed_data)\n",
        "  display_recommendations(recommendations)"
      ],
      "metadata": {
        "id": "EM6v3b4BWwdt"
      },
      "execution_count": 31,
      "outputs": []
    },
    {
      "cell_type": "code",
      "source": [],
      "metadata": {
        "id": "uXWbwWF0Ygy6"
      },
      "execution_count": null,
      "outputs": []
    }
  ],
  "metadata": {
    "colab": {
      "name": "Welcome To Colaboratory",
      "provenance": [],
      "include_colab_link": true
    },
    "kernelspec": {
      "display_name": "Python 3",
      "name": "python3"
    }
  },
  "nbformat": 4,
  "nbformat_minor": 0
}