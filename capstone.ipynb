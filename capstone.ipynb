{
  "nbformat": 4,
  "nbformat_minor": 0,
  "metadata": {
    "colab": {
      "provenance": [],
      "mount_file_id": "1Tb9aFJl6yc2scZ7c4CejpRHGieC_e4AR",
      "authorship_tag": "ABX9TyO35pFmav5KCmyGT5pgR5CH",
      "include_colab_link": true
    },
    "kernelspec": {
      "name": "python3",
      "display_name": "Python 3"
    },
    "language_info": {
      "name": "python"
    }
  },
  "cells": [
    {
      "cell_type": "markdown",
      "metadata": {
        "id": "view-in-github",
        "colab_type": "text"
      },
      "source": [
        "<a href=\"https://colab.research.google.com/github/Sandip19906666/Capstone-Project/blob/main/capstone.ipynb\" target=\"_parent\"><img src=\"https://colab.research.google.com/assets/colab-badge.svg\" alt=\"Open In Colab\"/></a>"
      ]
    },
    {
      "cell_type": "code",
      "source": [
        "import pandas as pd\n",
        "from sklearn.model_selection import train_test_split\n",
        "from sklearn.metrics import accuracy_score\n",
        "from sklearn.metrics.pairwise import cosine_similarity\n",
        "import numpy as np"
      ],
      "metadata": {
        "id": "b4S7AnFSfbqr"
      },
      "execution_count": 5,
      "outputs": []
    },
    {
      "cell_type": "code",
      "source": [
        "#Data collection"
      ],
      "metadata": {
        "id": "lmTaJzswfcyI"
      },
      "execution_count": 6,
      "outputs": []
    },
    {
      "cell_type": "code",
      "source": [
        "produt_data = pd.read_csv(\"/content/drive/MyDrive/Customer[1].csv\")"
      ],
      "metadata": {
        "id": "L-Sim56rf0R7"
      },
      "execution_count": 7,
      "outputs": []
    },
    {
      "cell_type": "code",
      "source": [
        "product_Transc= pd.read_csv(\"/content/drive/MyDrive/Transactions[1].csv\")"
      ],
      "metadata": {
        "id": "47r0jpFLgv0A"
      },
      "execution_count": 8,
      "outputs": []
    },
    {
      "cell_type": "code",
      "source": [
        "prod_catinfo= pd.read_csv(\"/content/drive/MyDrive/prod_cat_info[1].csv\")"
      ],
      "metadata": {
        "id": "lkThielhg5mu"
      },
      "execution_count": 9,
      "outputs": []
    },
    {
      "cell_type": "code",
      "source": [
        "# Data Preprocessing"
      ],
      "metadata": {
        "id": "HEEyrOX4hBZL"
      },
      "execution_count": 10,
      "outputs": []
    },
    {
      "cell_type": "code",
      "source": [
        "print(product_Transc)"
      ],
      "metadata": {
        "colab": {
          "base_uri": "https://localhost:8080/"
        },
        "id": "qH2f9sqehbCb",
        "outputId": "44652951-4971-4d89-ee0b-025656e9ba26"
      },
      "execution_count": 11,
      "outputs": [
        {
          "output_type": "stream",
          "name": "stdout",
          "text": [
            "       transaction_id  cust_id   tran_date  prod_subcat_code  prod_cat_code  \\\n",
            "0         80712190438   270351  28-02-2014                 1              1   \n",
            "1         29258453508   270384  27-02-2014                 5              3   \n",
            "2         51750724947   273420  24-02-2014                 6              5   \n",
            "3         93274880719   271509  24-02-2014                11              6   \n",
            "4         51750724947   273420  23-02-2014                 6              5   \n",
            "...               ...      ...         ...               ...            ...   \n",
            "23048     94340757522   274550  25-01-2011                12              5   \n",
            "23049     89780862956   270022  25-01-2011                 4              1   \n",
            "23050     85115299378   271020  25-01-2011                 2              6   \n",
            "23051     72870271171   270911  25-01-2011                11              5   \n",
            "23052     77960931771   271961  25-01-2011                11              5   \n",
            "\n",
            "       Qty  Rate      Tax  total_amt Store_type  \n",
            "0       -5  -772  405.300  -4265.300     e-Shop  \n",
            "1       -5 -1497  785.925  -8270.925     e-Shop  \n",
            "2       -2  -791  166.110  -1748.110   TeleShop  \n",
            "3       -3 -1363  429.345  -4518.345     e-Shop  \n",
            "4       -2  -791  166.110  -1748.110   TeleShop  \n",
            "...    ...   ...      ...        ...        ...  \n",
            "23048    1  1264  132.720   1396.720     e-Shop  \n",
            "23049    1   677   71.085    748.085     e-Shop  \n",
            "23050    4  1052  441.840   4649.840        MBR  \n",
            "23051    3  1142  359.730   3785.730   TeleShop  \n",
            "23052    1   447   46.935    493.935   TeleShop  \n",
            "\n",
            "[23053 rows x 10 columns]\n"
          ]
        }
      ]
    },
    {
      "cell_type": "code",
      "source": [
        "user_item_matrix = product_Transc.pivot_table(index='cust_id', columns='transaction_id', values='Qty', fill_value=0)"
      ],
      "metadata": {
        "id": "bKZSwP7rhnBZ"
      },
      "execution_count": 12,
      "outputs": []
    },
    {
      "cell_type": "code",
      "source": [
        "print(user_item_matrix)"
      ],
      "metadata": {
        "colab": {
          "base_uri": "https://localhost:8080/"
        },
        "id": "d2QoJYhRiRuB",
        "outputId": "bd881ee5-cfa5-4162-cff2-f7050b389b31"
      },
      "execution_count": 13,
      "outputs": [
        {
          "output_type": "stream",
          "name": "stdout",
          "text": [
            "transaction_id  3268991      7073244      10861359     15741026     \\\n",
            "cust_id                                                              \n",
            "266783                    0            0            0            0   \n",
            "266784                    0            0            0            0   \n",
            "266785                    0            0            0            0   \n",
            "266788                    0            0            0            0   \n",
            "266794                    0            0            0            0   \n",
            "...                     ...          ...          ...          ...   \n",
            "275257                    0            0            0            0   \n",
            "275261                    0            0            0            0   \n",
            "275262                    0            0            0            0   \n",
            "275264                    0            0            0            0   \n",
            "275265                    0            0            0            0   \n",
            "\n",
            "transaction_id  16165359     18629385     29740699     33156503     \\\n",
            "cust_id                                                              \n",
            "266783                    0            0            0            0   \n",
            "266784                    0            0            0            0   \n",
            "266785                    0            0            0            0   \n",
            "266788                    0            0            0            0   \n",
            "266794                    0            0            0            0   \n",
            "...                     ...          ...          ...          ...   \n",
            "275257                    0            0            0            0   \n",
            "275261                    0            0            0            0   \n",
            "275262                    0            0            0            0   \n",
            "275264                    0            0            0            0   \n",
            "275265                    0            0            0            0   \n",
            "\n",
            "transaction_id  38816402     41453307     ...  99942287499  99947326428  \\\n",
            "cust_id                                   ...                             \n",
            "266783                    0            0  ...            0            0   \n",
            "266784                    0            0  ...            0            0   \n",
            "266785                    0            0  ...            0            0   \n",
            "266788                    0            0  ...            0            0   \n",
            "266794                    0            0  ...            0            0   \n",
            "...                     ...          ...  ...          ...          ...   \n",
            "275257                    0            0  ...            0            0   \n",
            "275261                    0            0  ...            0            0   \n",
            "275262                    0            0  ...            0            0   \n",
            "275264                    0            0  ...            0            0   \n",
            "275265                    0            0  ...            0            0   \n",
            "\n",
            "transaction_id  99952735718  99957916781  99959918143  99963516507  \\\n",
            "cust_id                                                              \n",
            "266783                    0            0            0            0   \n",
            "266784                    0            0            0            0   \n",
            "266785                    0            0            0            0   \n",
            "266788                    0            0            0            0   \n",
            "266794                    0            0            0            0   \n",
            "...                     ...          ...          ...          ...   \n",
            "275257                    0            0            0            0   \n",
            "275261                    0            0            0            0   \n",
            "275262                    0            0            0            0   \n",
            "275264                    0            0            0            0   \n",
            "275265                    0            0            0            0   \n",
            "\n",
            "transaction_id  99967775192  99985121471  99986751618  99987549630  \n",
            "cust_id                                                             \n",
            "266783                    0            0            0            0  \n",
            "266784                    0            0            0            0  \n",
            "266785                    0            0            0            0  \n",
            "266788                    0            0            0            0  \n",
            "266794                    0            0            0            0  \n",
            "...                     ...          ...          ...          ...  \n",
            "275257                    0            0            0            0  \n",
            "275261                    0            0            0            0  \n",
            "275262                    0            0            0            0  \n",
            "275264                    0            0            0            0  \n",
            "275265                    0            0            0            0  \n",
            "\n",
            "[5506 rows x 20878 columns]\n"
          ]
        }
      ]
    },
    {
      "cell_type": "code",
      "source": [
        "#Recommendation Techniques: Collaborative Filtering\n",
        "# Split data into training and validation sets\n",
        "train_data, val_data = train_test_split(user_item_matrix, test_size=0.2, random_state=42)"
      ],
      "metadata": {
        "id": "vxDOdL1bictu"
      },
      "execution_count": 14,
      "outputs": []
    },
    {
      "cell_type": "code",
      "source": [
        "print(train_data,val_data)"
      ],
      "metadata": {
        "colab": {
          "base_uri": "https://localhost:8080/"
        },
        "id": "wg99nl7ljBPe",
        "outputId": "65980ef1-25a5-405b-f3fa-bb6539347eee"
      },
      "execution_count": 15,
      "outputs": [
        {
          "output_type": "stream",
          "name": "stdout",
          "text": [
            "transaction_id  3268991      7073244      10861359     15741026     \\\n",
            "cust_id                                                              \n",
            "274755                    0            0            0            0   \n",
            "268285                    0            0            0            0   \n",
            "273471                    0            0            0            0   \n",
            "270542                    0            0            0            0   \n",
            "271252                    0            0            0            0   \n",
            "...                     ...          ...          ...          ...   \n",
            "272602                    0            0            0            0   \n",
            "274806                    0            0            0            0   \n",
            "274853                    0            0            0            0   \n",
            "275090                    0            0            0            0   \n",
            "268109                    0            0            0            0   \n",
            "\n",
            "transaction_id  16165359     18629385     29740699     33156503     \\\n",
            "cust_id                                                              \n",
            "274755                    0            0            0            0   \n",
            "268285                    0            0            0            0   \n",
            "273471                    0            0            0            0   \n",
            "270542                    0            0            0            0   \n",
            "271252                    0            0            0            0   \n",
            "...                     ...          ...          ...          ...   \n",
            "272602                    0            0            0            0   \n",
            "274806                    0            0            0            0   \n",
            "274853                    0            0            0            0   \n",
            "275090                    0            0            0            0   \n",
            "268109                    0            0            0            0   \n",
            "\n",
            "transaction_id  38816402     41453307     ...  99942287499  99947326428  \\\n",
            "cust_id                                   ...                             \n",
            "274755                    0            0  ...            0            0   \n",
            "268285                    0            0  ...            0            0   \n",
            "273471                    0            0  ...            0            0   \n",
            "270542                    0            0  ...            0            0   \n",
            "271252                    0            0  ...            0            0   \n",
            "...                     ...          ...  ...          ...          ...   \n",
            "272602                    0            0  ...            0            0   \n",
            "274806                    0            0  ...            0            0   \n",
            "274853                    0            0  ...            0            0   \n",
            "275090                    0            0  ...            0            0   \n",
            "268109                    0            0  ...            0            0   \n",
            "\n",
            "transaction_id  99952735718  99957916781  99959918143  99963516507  \\\n",
            "cust_id                                                              \n",
            "274755                    0            0            0            0   \n",
            "268285                    0            0            0            0   \n",
            "273471                    0            0            0            0   \n",
            "270542                    0            0            0            0   \n",
            "271252                    0            0            0            0   \n",
            "...                     ...          ...          ...          ...   \n",
            "272602                    0            0            0            0   \n",
            "274806                    0            0            0            0   \n",
            "274853                    0            0            0            0   \n",
            "275090                    0            0            0            0   \n",
            "268109                    0            0            0            0   \n",
            "\n",
            "transaction_id  99967775192  99985121471  99986751618  99987549630  \n",
            "cust_id                                                             \n",
            "274755                    0            0            0            0  \n",
            "268285                    0            0            0            0  \n",
            "273471                    0            0            0            0  \n",
            "270542                    0            0            0            0  \n",
            "271252                    0            0            0            0  \n",
            "...                     ...          ...          ...          ...  \n",
            "272602                    0            0            0            0  \n",
            "274806                    0            0            0            0  \n",
            "274853                    0            0            0            0  \n",
            "275090                    0            0            0            0  \n",
            "268109                    0            0            0            0  \n",
            "\n",
            "[4404 rows x 20878 columns] transaction_id  3268991      7073244      10861359     15741026     \\\n",
            "cust_id                                                              \n",
            "273463                    0            0            0            0   \n",
            "268647                    0            0            0            0   \n",
            "273734                    0            0            0            0   \n",
            "275151                    0            0            0            0   \n",
            "272636                    0            0            0            0   \n",
            "...                     ...          ...          ...          ...   \n",
            "273103                    0            0            0            0   \n",
            "268350                    0            0            0            0   \n",
            "271823                    0            0            0            0   \n",
            "273459                    0            0            0            0   \n",
            "270074                    0            0            0            0   \n",
            "\n",
            "transaction_id  16165359     18629385     29740699     33156503     \\\n",
            "cust_id                                                              \n",
            "273463                    0            0            0            0   \n",
            "268647                    0            0            0            0   \n",
            "273734                    0            0            0            0   \n",
            "275151                    0            0            0            0   \n",
            "272636                    0            0            0            0   \n",
            "...                     ...          ...          ...          ...   \n",
            "273103                    0            0            0            0   \n",
            "268350                    0            0            0            0   \n",
            "271823                    0            0            0            0   \n",
            "273459                    0            0            0            0   \n",
            "270074                    0            0            0            0   \n",
            "\n",
            "transaction_id  38816402     41453307     ...  99942287499  99947326428  \\\n",
            "cust_id                                   ...                             \n",
            "273463                    0            0  ...            0            0   \n",
            "268647                    0            0  ...            0            0   \n",
            "273734                    0            0  ...            0            0   \n",
            "275151                    0            0  ...            0            0   \n",
            "272636                    0            0  ...            0            0   \n",
            "...                     ...          ...  ...          ...          ...   \n",
            "273103                    0            0  ...            0            0   \n",
            "268350                    0            0  ...            0            0   \n",
            "271823                    0            0  ...            0            0   \n",
            "273459                    0            0  ...            0            0   \n",
            "270074                    0            0  ...            0            0   \n",
            "\n",
            "transaction_id  99952735718  99957916781  99959918143  99963516507  \\\n",
            "cust_id                                                              \n",
            "273463                    0            0            0            0   \n",
            "268647                    0            0            0            0   \n",
            "273734                    0            0            0            0   \n",
            "275151                    0            0            0            0   \n",
            "272636                    0            0            0            0   \n",
            "...                     ...          ...          ...          ...   \n",
            "273103                    0            0            0            0   \n",
            "268350                    0            0            0            0   \n",
            "271823                    0            0            0            0   \n",
            "273459                    0            0            0            0   \n",
            "270074                    0            0            0            0   \n",
            "\n",
            "transaction_id  99967775192  99985121471  99986751618  99987549630  \n",
            "cust_id                                                             \n",
            "273463                    0            0            0            0  \n",
            "268647                    0            0            0            0  \n",
            "273734                    0            0            0            0  \n",
            "275151                    0            0            0            0  \n",
            "272636                    0            0            0            0  \n",
            "...                     ...          ...          ...          ...  \n",
            "273103                    0            0            0            0  \n",
            "268350                    0            0            0            0  \n",
            "271823                    0            0            0            0  \n",
            "273459                    0            0            0            0  \n",
            "270074                    0            0            0            0  \n",
            "\n",
            "[1102 rows x 20878 columns]\n"
          ]
        }
      ]
    },
    {
      "cell_type": "code",
      "source": [
        "user_similarity = cosine_similarity(train_data)\n",
        "item_similarity = cosine_similarity(train_data.T)"
      ],
      "metadata": {
        "id": "Nz2MpRX-jIsN"
      },
      "execution_count": 16,
      "outputs": []
    },
    {
      "cell_type": "code",
      "source": [
        "# Predictions based on similarity scores"
      ],
      "metadata": {
        "id": "JPFtvARTjdov"
      },
      "execution_count": 17,
      "outputs": []
    },
    {
      "cell_type": "code",
      "source": [
        "def predict_user_based(user_item_matrix, similarity_matrix):\n",
        "    pred = similarity_matrix.dot(user_item_matrix) / np.array([np.abs(similarity_matrix).sum(axis=1)]).T\n",
        "    return pred"
      ],
      "metadata": {
        "id": "2znTui2Pj7ov"
      },
      "execution_count": 18,
      "outputs": []
    },
    {
      "cell_type": "code",
      "source": [
        "def predict_item_based(user_item_matrix, similarity_matrix):\n",
        "    pred = user_item_matrix.dot(similarity_matrix) / np.array([np.abs(similarity_matrix).sum(axis=1)])\n",
        "    return pred"
      ],
      "metadata": {
        "id": "A_6UKUq7kAYz"
      },
      "execution_count": 19,
      "outputs": []
    },
    {
      "cell_type": "code",
      "source": [
        "#make predictions"
      ],
      "metadata": {
        "id": "NkyYh9J0kDI9"
      },
      "execution_count": 20,
      "outputs": []
    },
    {
      "cell_type": "code",
      "source": [
        "user_predictions = predict_user_based(train_data, user_similarity)\n",
        "item_predictions = predict_item_based(train_data, item_similarity)\n"
      ],
      "metadata": {
        "colab": {
          "base_uri": "https://localhost:8080/"
        },
        "id": "ocB1E1RYkHJa",
        "outputId": "8cf29548-04b9-432a-dd59-54bec341124e"
      },
      "execution_count": 21,
      "outputs": [
        {
          "metadata": {
            "tags": null
          },
          "name": "stderr",
          "output_type": "stream",
          "text": [
            "<ipython-input-18-6f8ee0645072>:2: RuntimeWarning: divide by zero encountered in divide\n",
            "  pred = similarity_matrix.dot(user_item_matrix) / np.array([np.abs(similarity_matrix).sum(axis=1)]).T\n",
            "<ipython-input-18-6f8ee0645072>:2: RuntimeWarning: invalid value encountered in divide\n",
            "  pred = similarity_matrix.dot(user_item_matrix) / np.array([np.abs(similarity_matrix).sum(axis=1)]).T\n"
          ]
        }
      ]
    },
    {
      "cell_type": "code",
      "source": [
        "#Evaluation Metrics"
      ],
      "metadata": {
        "id": "G7fnjgE7kJ4N"
      },
      "execution_count": 22,
      "outputs": []
    },
    {
      "cell_type": "code",
      "source": [
        "def get_accuracy(predictions, actual):\n",
        "    pred_flattened = predictions[val_data.nonzero()]\n",
        "    actual_flattened = actual[val_data.nonzero()]\n",
        "    return accuracy_score(np.round(pred_flattened), actual_flattened)\n"
      ],
      "metadata": {
        "id": "3wFTgVrukSVE"
      },
      "execution_count": 26,
      "outputs": []
    },
    {
      "cell_type": "code",
      "source": [
        "user_accuracy = get_accuracy(user_predictions, val_data)\n",
        "item_accuracy = get_accuracy(item_predictions, val_data)\n",
        "\n",
        "print(\"User-based CF Accuracy:\", user_accuracy)\n",
        "print(\"Item-based CF Accuracy:\", item_accuracy)"
      ],
      "metadata": {
        "id": "xlQudCwHmEmt"
      },
      "execution_count": null,
      "outputs": []
    }
  ]
}